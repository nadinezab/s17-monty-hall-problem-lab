{
 "cells": [
  {
   "cell_type": "markdown",
   "metadata": {},
   "source": [
    "# The Monty Hall Problem\n",
    "\n",
    "## Introduction\n",
    "\n",
    "The Monty Hall problem is a famous little puzzle from a game show. It goes like this: you are presented with 3 doors. Behind two are goats and behind the third is a car. You are asked to select a door; if you select the door with the car, you win! After selecting, the host then opens one of the remaining two doors, revealing a goat. The host then asks if you would like to switch doors or stick with your original choice. What would you do? Does it matter?\n",
    "\n",
    "<img src=\"images/Image_58_MontyHall.png\">\n",
    "\n",
    "## Objectives\n",
    "\n",
    "In this lab you will:\n",
    "\n",
    "- Use Bayes' theorem along with a simulation to solve the Monty Hall problem"
   ]
  },
  {
   "cell_type": "markdown",
   "metadata": {},
   "source": [
    "## Run a simulation\n",
    "\n",
    "This is not a traditional application of Bayes' theorem, so trying to formulate the problem as such is tricky at best. That said, the scenario does capture the motivating conception behind Bayesian statistics: updating our beliefs in the face of additional evidence. With this, you'll employ another frequently used tool Bayesians frequently employ, running simulations. To do this, generate a random integer between one and three to represent the door hiding the car. Then, generate a second integer between one and three representing the player's selection. Then, of those the contestant did not choose, select a door concealing a goat to reveal. Record the results of the simulated game if they changed versus if they did not. Repeat this process a thousand (or more) times. Finally, plot the results of your simulation as a line graph. The x-axis should be the number of simulations, and the y-axis should be the probability of winning. (There should be two lines on the graph, one for switching doors, and the other for keeping the original selection.)"
   ]
  },
  {
   "cell_type": "code",
   "execution_count": 53,
   "metadata": {},
   "outputs": [],
   "source": [
    "import numpy as np\n",
    "import matplotlib.pyplot as plt\n",
    "import seaborn as sns\n",
    "%matplotlib inline"
   ]
  },
  {
   "cell_type": "code",
   "execution_count": 49,
   "metadata": {},
   "outputs": [
    {
     "name": "stdout",
     "output_type": "stream",
     "text": [
      "Car is behind door number: 2\n",
      "Player chose door number: 2\n",
      "A goat is revealed behind door number: 1\n",
      "Player can choose to swith to door number: 3 \n",
      "\n",
      "Car is behind door number: 2\n",
      "Player chose door number: 1\n",
      "A goat is revealed behind door number: 3\n",
      "Player can choose to swith to door number: 2 \n",
      "\n",
      "Car is behind door number: 3\n",
      "Player chose door number: 1\n",
      "A goat is revealed behind door number: 2\n",
      "Player can choose to swith to door number: 3 \n",
      "\n",
      "Car is behind door number: 1\n",
      "Player chose door number: 1\n",
      "A goat is revealed behind door number: 2\n",
      "Player can choose to swith to door number: 3 \n",
      "\n",
      "Car is behind door number: 2\n",
      "Player chose door number: 2\n",
      "A goat is revealed behind door number: 3\n",
      "Player can choose to swith to door number: 1 \n",
      "\n",
      "Switches win/lose: [0, 1, 1, 0, 0]\n",
      "No switches win/lose [1, 0, 0, 1, 1]\n"
     ]
    }
   ],
   "source": [
    "# Mini simulation - 5 times including printing full results\n",
    "\n",
    "doors = [1,2,3]\n",
    "switch = []\n",
    "noswitch = []\n",
    "\n",
    "for i in range (0,5):\n",
    "    \n",
    "    # Generate random int between 1 and 3 to represent car\n",
    "    car = np.random.randint(1,4)\n",
    "    \n",
    "    # Generate int between 1 and 3 to represent players choice\n",
    "    playerchoice = np.random.randint(1,4)\n",
    "    \n",
    "    # Empty list to store doors which could be revealed\n",
    "    goatoptions = []\n",
    "\n",
    "    for door in doors:\n",
    "        if door != car:\n",
    "            if door != playerchoice:\n",
    "                goatoptions.append(door)\n",
    "                \n",
    "    # Selects a door to reveal containing goat\n",
    "    reveal = np.random.choice(goatoptions)\n",
    "\n",
    "    # Empty list to store value for door which player can switch to\n",
    "    playerswitcheddoor = []\n",
    "\n",
    "    for door in doors:\n",
    "        if door != reveal:\n",
    "            if door != playerchoice:\n",
    "                playerswitcheddoor.append(door)\n",
    "    \n",
    "    # Record win/loss if player switches\n",
    "    if playerswitcheddoor[0] == car:\n",
    "        switch.append(1)\n",
    "    else:\n",
    "        switch.append(0)\n",
    "    \n",
    "    # Record win/loss if player doesn't switch\n",
    "    if playerchoice == car:\n",
    "        noswitch.append(1)\n",
    "    else:\n",
    "        noswitch.append(0)\n",
    "\n",
    "            \n",
    "    print(f'Car is behind door number: {car}')\n",
    "    print(f'Player chose door number: {playerchoice}')\n",
    "    print(f'A goat is revealed behind door number: {reveal}')\n",
    "    print(f'Player can choose to swith to door number: {playerswitcheddoor[0]} \\n')\n",
    "\n",
    "\n",
    "print(f'Switches win/lose: {switch}')\n",
    "print(f'No switches win/lose {noswitch}')"
   ]
  },
  {
   "cell_type": "code",
   "execution_count": 78,
   "metadata": {},
   "outputs": [
    {
     "name": "stdout",
     "output_type": "stream",
     "text": [
      "Probability of winning if player switches: 0.6654\n",
      "Probability of winning if a player does not switch: 0.3346\n"
     ]
    }
   ],
   "source": [
    "# Full simulation\n",
    "\n",
    "doors = [1,2,3]\n",
    "switch = []\n",
    "noswitch = []\n",
    "\n",
    "for i in range (0,10**4):\n",
    "    \n",
    "    # Generate random int between 1 and 3 to represent car\n",
    "    car = np.random.randint(1,4)\n",
    "    \n",
    "    # Generate int between 1 and 3 to represent players choice\n",
    "    playerchoice = np.random.randint(1,4)\n",
    "    \n",
    "    # Empty list to store doors which could be revealed\n",
    "    goatoptions = []\n",
    "\n",
    "    for door in doors:\n",
    "        if door != car:\n",
    "            if door != playerchoice:\n",
    "                goatoptions.append(door)\n",
    "                \n",
    "    # Selects a door to reveal containing goat\n",
    "    reveal = np.random.choice(goatoptions)\n",
    "\n",
    "    # Empty list to store value for door which player can switch to\n",
    "    playerswitcheddoor = []\n",
    "\n",
    "    for door in doors:\n",
    "        if door != reveal:\n",
    "            if door != playerchoice:\n",
    "                playerswitcheddoor.append(door)\n",
    "    \n",
    "    # Record win/loss if player switches\n",
    "    if playerswitcheddoor[0] == car:\n",
    "        switch.append(1)\n",
    "    else:\n",
    "        switch.append(0)\n",
    "    \n",
    "    # Record win/loss if player doesn't switch\n",
    "    if playerchoice == car:\n",
    "        noswitch.append(1)\n",
    "    else:\n",
    "        noswitch.append(0)\n",
    "\n",
    "print(f'Probability of winning if player switches: {np.mean(switch)}')\n",
    "print(f'Probability of winning if a player does not switch: {np.mean(noswitch)}')"
   ]
  },
  {
   "cell_type": "code",
   "execution_count": 79,
   "metadata": {},
   "outputs": [
    {
     "data": {
      "image/png": "[encoded data removed]",
      "text/plain": [
       "<Figure size 432x288 with 1 Axes>"
      ]
     },
     "metadata": {
      "needs_background": "light"
     },
     "output_type": "display_data"
    }
   ],
   "source": [
    "# Lineplot\n",
    "\n",
    "# x values in range 1 to 10*4\n",
    "xs = np.arange(1,10**4,1)\n",
    "\n",
    "# y values for switch and noswitch, take mean of lists\n",
    "# Use slicing to get entries up to x where x is number of simulations\n",
    "yswitch = [ np.mean(switch[:x]) for x in xs]\n",
    "ynoswitch = [ np.mean(noswitch[:x]) for x in xs]\n",
    "\n",
    "# Plot lineplot for switch\n",
    "sns.lineplot(xs, yswitch, label = 'Switching doors')\n",
    "# Plot lineplot for no switch\n",
    "sns.lineplot(xs, ynoswitch, label = 'No Switch')\n",
    "\n",
    "plt.title(\"Monty Hall Problem Simulation\")\n",
    "plt.xlabel(\"Number of Simulations\")\n",
    "plt.ylabel(\"Win probability\")\n",
    "plt.show()"
   ]
  },
  {
   "cell_type": "markdown",
   "metadata": {},
   "source": [
    "## Summary\n",
    "\n",
    "In this lab, you further investigated the idea of Bayes' theorem and Bayesian statistics in general through the Monty Hall problem. Hopefully, this was an entertaining little experience! "
   ]
  }
 ],
 "metadata": {
  "kernelspec": {
   "display_name": "Python 3",
   "language": "python",
   "name": "python3"
  },
  "language_info": {
   "codemirror_mode": {
    "name": "ipython",
    "version": 3
   },
   "file_extension": ".py",
   "mimetype": "text/x-python",
   "name": "python",
   "nbconvert_exporter": "python",
   "pygments_lexer": "ipython3",
   "version": "3.6.9"
  },
  "toc": {
   "base_numbering": 1,
   "nav_menu": {},
   "number_sections": true,
   "sideBar": true,
   "skip_h1_title": false,
   "title_cell": "Table of Contents",
   "title_sidebar": "Contents",
   "toc_cell": false,
   "toc_position": {},
   "toc_section_display": true,
   "toc_window_display": false
  }
 },
 "nbformat": 4,
 "nbformat_minor": 2
}
